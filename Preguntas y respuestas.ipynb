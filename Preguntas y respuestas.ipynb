{
 "cells": [
  {
   "cell_type": "code",
   "execution_count": null,
   "metadata": {},
   "outputs": [
    {
     "name": "stdout",
     "output_type": "stream",
     "text": [
      "Incorrecto.La respuesta correcta era:Roma\n",
      "Incorrecto.La respuesta correcta era:Blanca/Roja\n",
      "Incorrecto.La respuesta correcta era:Fránces\n",
      "Incorrecto.La respuesta correcta era:Mercurio\n",
      "Tu puntuación final es:0 de 4\n"
     ]
    }
   ],
   "source": [
    "#Definición de diccionario con preguntas y respuestas\n",
    "diccionario={\"¿Cual es la capital de Italia?\":\"Roma\",\"¿De que color es la bandera de Japon?\":\"Blanca y Roja\",\"¿De que nacionalidad era Rene Descartes\":\"Frances\",\"¿Qué planeta es más cercano al sol\":\"Mercurio\"}\n",
    "Puntuacion = 0\n",
    "for pregunta, respuesta_correcta in diccionario.items():\n",
    "    respuesta_usuario=input(pregunta + \" \")\n",
    "    if respuesta_usuario.lower()== respuesta_correcta.lower():\n",
    "        print(\"¡Correcto!\")\n",
    "        Puntuacion +=1\n",
    "    else:\n",
    "        print(f\"Incorrecto.La respuesta correcta era:{respuesta_correcta}\")\n",
    "print(f\"Tu puntuación final es:{Puntuacion} de {len(diccionario)}\")\n",
    "\n"
   ]
  }
 ],
 "metadata": {
  "kernelspec": {
   "display_name": "base",
   "language": "python",
   "name": "python3"
  },
  "language_info": {
   "codemirror_mode": {
    "name": "ipython",
    "version": 3
   },
   "file_extension": ".py",
   "mimetype": "text/x-python",
   "name": "python",
   "nbconvert_exporter": "python",
   "pygments_lexer": "ipython3",
   "version": "3.12.7"
  }
 },
 "nbformat": 4,
 "nbformat_minor": 2
}
