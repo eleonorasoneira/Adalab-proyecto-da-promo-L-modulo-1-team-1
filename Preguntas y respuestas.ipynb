{
 "cells": [
  {
   "cell_type": "code",
   "execution_count": 1,
   "metadata": {},
   "outputs": [
    {
     "name": "stdout",
     "output_type": "stream",
     "text": [
      "¡Bienvenida al juego de preguntas y respuestas!\n",
      "/n\n",
      "El juego consta de 10 preguntas de cultura general, por cada respuesta acertada ganarás 1 punto\n",
      "Si consigues 8 puntos, habrás ganado. Si no llegas a 8 puntos, sigue intentándolo.\n",
      "¡Comencemos!\n",
      "¡Correcto! Llevas 0 puntos\n",
      "Fallaste. La respuesta correcta era:Blanca y Roja. ¡Sigue intentándolo!\n",
      "Fallaste. La respuesta correcta era:Frances. ¡Sigue intentándolo!\n",
      "¡Correcto! Llevas 1 puntos\n",
      "¡Correcto! Llevas 2 puntos\n",
      "¡Correcto! Llevas 3 puntos\n",
      "Fallaste. La respuesta correcta era:Oganeson. ¡Sigue intentándolo!\n",
      "¡Correcto! Llevas 4 puntos\n",
      "¡Correcto! Llevas 5 puntos\n",
      "¡Correcto! Llevas 6 puntos\n",
      "Has perdido, continua aprendiendo cultura general.\n"
     ]
    }
   ],
   "source": [
    "#Definición de diccionario con preguntas y respuestas\n",
    "print(\"¡Bienvenida al juego de preguntas y respuestas!\")\n",
    "print(\"/n\")\n",
    "print(\"El juego consta de 10 preguntas de cultura general, por cada respuesta acertada ganarás 1 punto\")\n",
    "print(\"Si consigues 8 puntos, habrás ganado. Si no llegas a 8 puntos, sigue intentándolo.\")\n",
    "print(\"¡Comencemos!\")\n",
    "#Definimos el diccionario con las preguntas y respuestas válidas\n",
    "diccionario={\"¿Cual es la capital de Italia?\":\"Roma\",\n",
    "             \"¿De que color es la bandera de Japon?\":\"Blanca y Roja\",\n",
    "             \"¿De que nacionalidad era Rene Descartes\":\"Frances\",\n",
    "             \"¿Qué planeta es más cercano al sol\":\"Mercurio\",\n",
    "             \"¿Cuál es el animal que más horas duerme durante el día\":\"Koala\",\n",
    "             \"¿Quién escribió La Odisea\":\"Homero\",\n",
    "             \"¿Cuál es el último elemento descubierto en la tabla periódica?\":\"Oganeson\",\n",
    "             \"¿Qué deporte practicaba Michael Jordan?\":\"Baloncesto\",\n",
    "             \"¿En qué año comenzó la II Guerra Mundial?\":\"1939\",\n",
    "             \"¿A qué movimiento artístico pertenecía Picasso?\":\"Cubismo\"}\n",
    "Puntuacion = 0 #Iniciamos el contador de la puntuación en 0\n",
    "for pregunta, respuesta_correcta in diccionario.items():\n",
    "    respuesta_usuario=input(pregunta + \" \")\n",
    "    if respuesta_usuario.lower()== respuesta_correcta.lower():\n",
    "        print(f\"¡Correcto! Llevas {Puntuacion} puntos\")\n",
    "        Puntuacion +=1\n",
    "    else:\n",
    "        print(f\"Fallaste. La respuesta correcta era:{respuesta_correcta}. ¡Sigue intentándolo!\")\n",
    "if Puntuacion>=8:\n",
    "    print(\"¡Enhorabuena, has ganado!\")\n",
    "else:\n",
    "    print(\"Has perdido, continua aprendiendo cultura general.\")\n",
    "\n",
    "\n"
   ]
  }
 ],
 "metadata": {
  "kernelspec": {
   "display_name": "Python 3",
   "language": "python",
   "name": "python3"
  },
  "language_info": {
   "codemirror_mode": {
    "name": "ipython",
    "version": 3
   },
   "file_extension": ".py",
   "mimetype": "text/x-python",
   "name": "python",
   "nbconvert_exporter": "python",
   "pygments_lexer": "ipython3",
   "version": "3.11.9"
  }
 },
 "nbformat": 4,
 "nbformat_minor": 2
}
