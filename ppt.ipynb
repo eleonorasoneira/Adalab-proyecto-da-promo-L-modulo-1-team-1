{
 "cells": [
  {
   "cell_type": "code",
   "execution_count": null,
   "metadata": {},
   "outputs": [],
   "source": [
    "print(\"***************************************\\n¡Bienvenidas a Piedra, Papel y Tijera!\\n***************************************\\n           Elige una opción\")\n",
    "\n",
    "import random\n",
    "\n",
    "# Opciones disponibles\n",
    "opciones = [\"piedra\", \"papel\", \"tijera\"]\n",
    "\n",
    "# Puntos iniciales\n",
    "puntos_jugador = 0\n",
    "puntos_computadora = 0\n",
    "\n",
    "# Mientras ninguno haya alcanzado 3 puntos\n",
    "# Este primer while o bucle controla las rondas del juego y se asegura de que se siga ejecutando mientras ningún jugador (ni la computadora) haya alcanzado 3 puntos.\n",
    "while puntos_computadora < 3 and puntos_jugador < 3:\n",
    "\n",
    "    while True:\n",
    "        # Pedir al jugador su elección\n",
    "        jugador = input(\"Elije: Piedra, Papel, o Tijera: \").lower()\n",
    "        if jugador in opciones:\n",
    "            break # Salir del bucle si la elección es válida\n",
    "        print(\"Por favor elije una opción válida (piedra, papel o tijera).\")\n",
    "        \n",
    "\n",
    "    # Mostrar la elección del jugador\n",
    "    print(\"\\nHas elegido:\", jugador)\n",
    "\n",
    "    # Elección aleatoria de la computadora\n",
    "    ordenador = random.choice(opciones)\n",
    "    print(\"\\nEl ordenador ha elegido:\", ordenador)\n",
    "\n",
    "    # Cómo se gana la ronda\n",
    "    # Utilizamos la \\ justo detrás del or para continuar el código en la siguiente línea, y que no quede el código largo\n",
    "    if jugador == ordenador:\n",
    "        print(\"\\n¡Han empatado!\")\n",
    "    elif (jugador == \"piedra\" and ordenador == \"tijera\") or \\\n",
    "         (jugador == \"papel\" and ordenador == \"piedra\") or \\\n",
    "         (jugador == \"tijera\" and ordenador == \"papel\"):\n",
    "        print(\"\\n¡Has ganado esta ronda!\")\n",
    "        puntos_jugador += 1\n",
    "    else:\n",
    "        print(\"Has perdido esta ronda. ¡Sigue intentándolo!\")\n",
    "        puntos_computadora += 1\n",
    "\n",
    "    # Mostrar marcador\n",
    "    print(f\"\\nPuntos - Jugador: {puntos_jugador}, Computadora: {puntos_computadora}\")\n",
    "\n",
    "# Resultado final\n",
    "#Está fuera del while porque queremos que solo se ejecute 1 vez. Cuando el jugador o el ordenador consigan los 3 puntos. Es decir, cuando termina el bucle\n",
    "if puntos_computadora == 3:\n",
    "    print(\"\\nEl ordenador ha ganado la serie.\")\n",
    "elif puntos_jugador == 3:\n",
    "    print(\"\\n¡Felicidades! Has ganado la serie.\")"
   ]
  }
 ],
 "metadata": {
  "kernelspec": {
   "display_name": "base",
   "language": "python",
   "name": "python3"
  },
  "language_info": {
   "codemirror_mode": {
    "name": "ipython",
    "version": 3
   },
   "file_extension": ".py",
   "mimetype": "text/x-python",
   "name": "python",
   "nbconvert_exporter": "python",
   "pygments_lexer": "ipython3",
   "version": "3.12.7"
  }
 },
 "nbformat": 4,
 "nbformat_minor": 2
}
