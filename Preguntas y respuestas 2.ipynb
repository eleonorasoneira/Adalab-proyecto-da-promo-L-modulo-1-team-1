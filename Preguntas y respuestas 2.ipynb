{
 "cells": [
  {
   "cell_type": "code",
   "execution_count": null,
   "metadata": {},
   "outputs": [],
   "source": [
    "import random\n",
    "# Bienvenida y explicación de las reglas del juego\n",
    "print(\"**********¡Bienvenida al juego de preguntas y respuestas!**********\")\n",
    "print(\"Las reglas del juego son las siguientes: \")\n",
    "print(\"·El juego consta de 8 preguntas de cultura general\")\n",
    "print(\"·Tendrás que ir contestando preguntas, hasta que respondas correctamente 5, resultando ganadora del juego, o hasta que falles 3, en cuyo caso habrás perdido\")\n",
    "print(\"¡Buena Suerte!\")\n",
    "# Definimos un diccionario con las preguntas y respuestas válidas\n",
    "preguntas_respuestas = { \"¿Cual es la capital de Italia?\":\"Roma\", \"¿De que nacionalidad era Rene Descartes?\":\"Frances\", \"¿Qué planeta es más cercano al sol?\":\"Mercurio\", \"¿Cuál es el animal que más horas duerme durante el día?\":\"Koala\", \"¿Quién escribió La Odisea?\":\"Homero\",  \"¿Qué deporte practicaba Michael Jordan?\":\"Baloncesto\", \"¿En qué año comenzó la II Guerra Mundial?\":\"1939\", \"¿A qué movimiento artístico pertenecía Picasso?\":\"Cubismo\"\n",
    "                        }\n",
    "# Implementamos una función para seleccionar preguntas aleatorias de nuestro diccionario de preguntas_respuestas\n",
    "def seleccionar_pregunta(preguntas):\n",
    "    return random.choice(list(preguntas.items()))\n",
    "# Definimos variables del juego\n",
    "puntuacion = 0\n",
    "intentos = 3\n",
    "# Empezamos un bucle while con la operativa del juego\n",
    "while intentos > 0 and puntuacion < 5: #Iran saliendo preguntas mientras me queden intentos y mis puntos sean menores a 5\n",
    "    pregunta, respuesta_correcta = seleccionar_pregunta(preguntas_respuestas)\n",
    "    print(f\"Pregunta: {pregunta}\")\n",
    "    respuesta_jugador = input(\"Tu respuesta: \").strip().lower()\n",
    "    if respuesta_jugador == respuesta_correcta.strip().lower():\n",
    "        puntuacion += 1\n",
    "        print(f\"¡Respuesta correcta! Tienes {puntuacion} puntos\")\n",
    "    else:\n",
    "        intentos -= 1\n",
    "        print(f\"Respuesta incorrecta. Te quedan {intentos} intentos\")\n",
    "    del preguntas_respuestas[pregunta]\n",
    "if puntuacion == 5:\n",
    "    print(\"¡Has ganado! Has repondido correctamente 5 preguntas ¡ENHORABUENA!\")\n",
    "elif intentos == 0:\n",
    "    print(\"Has perdido el juego, has fallado 3 preguntas\")\n",
    "    \n",
    "    \n"
   ]
  }
 ],
 "metadata": {
  "kernelspec": {
   "display_name": "Python 3",
   "language": "python",
   "name": "python3"
  },
  "language_info": {
   "codemirror_mode": {
    "name": "ipython",
    "version": 3
   },
   "file_extension": ".py",
   "mimetype": "text/x-python",
   "name": "python",
   "nbconvert_exporter": "python",
   "pygments_lexer": "ipython3",
   "version": "3.11.9"
  }
 },
 "nbformat": 4,
 "nbformat_minor": 2
}
