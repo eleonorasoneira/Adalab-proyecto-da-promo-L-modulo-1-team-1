{
 "cells": [
  {
   "cell_type": "code",
   "execution_count": 10,
   "metadata": {},
   "outputs": [],
   "source": [
    "#definir 1 jugador y la computadora \n",
    "#asegurarnos que ese input que sea piedra, papel o tijera\n",
    "#Definir que gana el mejor de 5 (3 puntos)\n",
    "#pedir input al jugador \n",
    "#definir quien gana \n",
    "# y darle el punto al ganador \n",
    "#bucle para ver como va el resultado\n",
    "#break - si se gana el juego \n",
    "\n",
    "import random\n"
   ]
  },
  {
   "cell_type": "code",
   "execution_count": null,
   "metadata": {},
   "outputs": [
    {
     "ename": "IndentationError",
     "evalue": "unindent does not match any outer indentation level (<tokenize>, line 29)",
     "output_type": "error",
     "traceback": [
      "\u001b[0;36m  File \u001b[0;32m<tokenize>:29\u001b[0;36m\u001b[0m\n\u001b[0;31m    while puntos_computadora<3 and puntos_jugador<3:\u001b[0m\n\u001b[0m    ^\u001b[0m\n\u001b[0;31mIndentationError\u001b[0m\u001b[0;31m:\u001b[0m unindent does not match any outer indentation level\n"
     ]
    }
   ],
   "source": [
    "# Puntos las opciones\n",
    "opciones=[\"piedra\", \"papel\", \"tijera\"]\n",
    "\n",
    "# Puntos iniciales\n",
    "puntos_jugador = 0\n",
    "puntos_computadora = 0\n",
    "\n",
    "\n",
    "#asegurarnos que ese input que sea piedra, papel o tijera\n",
    "#pedir input al jugador \n",
    "\n",
    "while puntos_computadora<3 and puntos_jugador<3:\n",
    "    jugador= input(\"Elije: Piedra, Papel, o Tijera\").lower()\n",
    "   while jugador not in opciones:\n",
    "        print (\"Por favor elije una opcion valida.\")\n",
    "        jugador= input(\"Elije: Piedra, Papel, o Tijera\").lower()\n",
    "        print(\"Has elegido\", jugador)\n",
    "        ordenador=random.choice(opciones)\n",
    "        print(\"El ordenador a elgido\", ordenador)\n",
    "\n",
    "#definimos quien gana\n",
    "    if jugador == ordenador:\n",
    "        print(\"Han empatado!\")\n",
    "    elif (jugador == \"piedra\" and ordenador==\"tijera\") or (jugador==\"papel\" and ordenador==\"piedra\") or (jugador==\"tijera\" and ordenador == \"papel\"):\n",
    "        print(\"Has ganado!\")\n",
    "        puntos_jugador +=1\n",
    "\n",
    "    else:\n",
    "        print(\"Has perdido. Sigue intentadolo\")\n",
    "        puntos_computadora +=1\n",
    "#decimos quien ha ganado\n",
    "if puntos_computadora==3:\n",
    "        print (\"Ha ganado el ordenador\")\n",
    "elif puntos_jugador==3:\n",
    "        print (\"Has ganado!\")\n",
    "    "
   ]
  }
 ],
 "metadata": {
  "kernelspec": {
   "display_name": "Python 3",
   "language": "python",
   "name": "python3"
  },
  "language_info": {
   "codemirror_mode": {
    "name": "ipython",
    "version": 3
   },
   "file_extension": ".py",
   "mimetype": "text/x-python",
   "name": "python",
   "nbconvert_exporter": "python",
   "pygments_lexer": "ipython3",
   "version": "3.9.6"
  }
 },
 "nbformat": 4,
 "nbformat_minor": 2
}
