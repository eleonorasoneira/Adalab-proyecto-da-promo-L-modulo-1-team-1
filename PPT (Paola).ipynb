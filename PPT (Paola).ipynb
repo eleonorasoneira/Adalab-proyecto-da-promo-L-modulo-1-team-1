{
 "cells": [
  {
   "cell_type": "code",
   "execution_count": null,
   "metadata": {},
   "outputs": [
    {
     "name": "stdout",
     "output_type": "stream",
     "text": [
      "Has elegido lkdfhd\n",
      "El ordenador a elegido papel\n",
      "Has elegido papel\n",
      "El ordenador a elegido papel\n",
      "Han empatado!\n",
      "Has elegido piedra\n",
      "El ordenador a elegido piedra\n",
      "Han empatado!\n",
      "Has elegido papel\n",
      "El ordenador a elegido papel\n",
      "Han empatado!\n",
      "Has elegido papel\n",
      "El ordenador a elegido piedra\n",
      "Has ganado!\n",
      "Has elegido papel\n",
      "El ordenador a elegido papel\n",
      "Han empatado!\n",
      "Has elegido papel\n",
      "El ordenador a elegido papel\n",
      "Han empatado!\n",
      "Has elegido papel\n",
      "El ordenador a elegido papel\n",
      "Han empatado!\n",
      "Has elegido papel\n",
      "El ordenador a elegido papel\n",
      "Han empatado!\n",
      "Has elegido papel\n",
      "El ordenador a elegido piedra\n",
      "Has ganado!\n",
      "Has elegido papel\n",
      "El ordenador a elegido papel\n",
      "Han empatado!\n",
      "Has elegido \n"
     ]
    }
   ],
   "source": [
    "#definir 1 jugador y la computadora \n",
    "#asegurarnos que ese input que sea piedra, papel o tijera\n",
    "#Definir que gana el mejor de 5 (3 puntos)\n",
    "#pedir input al jugador \n",
    "#definir quien gana \n",
    "# y darle el punto al ganador \n",
    "#bucle para ver como va el resultado\n",
    "#break - si se gana el juego \n",
    "\n",
    "import random\n",
    "# Definimos las opciones\n",
    "opciones=[\"piedra\", \"papel\", \"tijera\"]\n",
    "\n",
    "# Definimos los puntos iniciales de cada jugador\n",
    "puntos_jugador = 0\n",
    "puntos_computadora = 0\n",
    "\n",
    "# Pedimos al jugador que elija una opción\n",
    "jugador= input(\"Elije: Piedra, Papel, o Tijera\").lower()\n",
    "print(\"Has elegido\", jugador)\n",
    "while jugador not in opciones:\n",
    "    jugador= input(\"ERROR, elije una opción válida: Piedra, Papel, o Tijera\").lower()\n",
    "ordenador=random.choice(opciones)\n",
    "print(\"El ordenador a elegido\", ordenador)\n",
    "\n",
    "# Identificamos quien gana\n",
    "while puntos_jugador or puntos_computadora <3:\n",
    "    jugador= input(\"Elije: Piedra, Papel, o Tijera\").lower()\n",
    "    print(\"Has elegido\", jugador)\n",
    "    while jugador not in opciones:\n",
    "        jugador= input(\"ERROR, elije una opción válida: Piedra, Papel, o Tijera\").lower()\n",
    "    ordenador=random.choice(opciones)\n",
    "    print(\"El ordenador a elegido\", ordenador)\n",
    "    if jugador == ordenador:\n",
    "        print(\"Han empatado!\")\n",
    "    elif (jugador == \"piedra\" and ordenador ==\"tijera\") or (jugador == \"papel\" and ordenador == \"piedra\") or (jugador== \"tijera\" and ordenador == \"papel\"):\n",
    "        print(\"Has ganado!\")\n",
    "        puntos_jugador += 1\n",
    "    else:\n",
    "        print(\"Has perdido. Sigue intentándolo\")\n",
    "        puntos_computadora += 1\n",
    "else:\n",
    "    if puntos_computadora == 3:\n",
    "            print (\"Ha ganado el ordenador\")\n",
    "    elif puntos_jugador == 3:\n",
    "            print (\"Has ganado!\")"
   ]
  }
 ],
 "metadata": {
  "kernelspec": {
   "display_name": "Python 3",
   "language": "python",
   "name": "python3"
  },
  "language_info": {
   "codemirror_mode": {
    "name": "ipython",
    "version": 3
   },
   "file_extension": ".py",
   "mimetype": "text/x-python",
   "name": "python",
   "nbconvert_exporter": "python",
   "pygments_lexer": "ipython3",
   "version": "3.11.9"
  }
 },
 "nbformat": 4,
 "nbformat_minor": 2
}
