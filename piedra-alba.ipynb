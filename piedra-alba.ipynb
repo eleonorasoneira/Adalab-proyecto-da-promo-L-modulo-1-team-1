{
 "cells": [
  {
   "cell_type": "code",
   "execution_count": 1,
   "metadata": {},
   "outputs": [
    {
     "name": "stdout",
     "output_type": "stream",
     "text": [
      "Has elegido: papel\n",
      "El ordenador ha elegido: piedra\n",
      "¡Has ganado esta ronda!\n",
      "Puntos - Jugador: 1, Computadora: 0\n",
      "Por favor elije una opción válida (piedra, papel o tijera).\n",
      "Has elegido: piedra\n",
      "El ordenador ha elegido: papel\n",
      "Has perdido esta ronda. ¡Sigue intentándolo!\n",
      "Puntos - Jugador: 1, Computadora: 1\n",
      "Has elegido: piedra\n",
      "El ordenador ha elegido: papel\n",
      "Has perdido esta ronda. ¡Sigue intentándolo!\n",
      "Puntos - Jugador: 1, Computadora: 2\n",
      "Por favor elije una opción válida (piedra, papel o tijera).\n",
      "Has elegido: tijera\n",
      "El ordenador ha elegido: tijera\n",
      "¡Han empatado!\n",
      "Puntos - Jugador: 1, Computadora: 2\n",
      "Has elegido: tijera\n",
      "El ordenador ha elegido: piedra\n",
      "Has perdido esta ronda. ¡Sigue intentándolo!\n",
      "Puntos - Jugador: 1, Computadora: 3\n",
      "El ordenador ha ganado la serie.\n"
     ]
    }
   ],
   "source": [
    "import random\n",
    "\n",
    "# Opciones disponibles\n",
    "opciones = [\"piedra\", \"papel\", \"tijera\"]\n",
    "\n",
    "# Puntos iniciales\n",
    "puntos_jugador = 0\n",
    "puntos_computadora = 0\n",
    "\n",
    "# Mientras ninguno haya alcanzado 3 puntos\n",
    "# Este primer while o bucle controla las rondas del juego y se asegura de que se siga ejecutando mientras ningún jugador (ni la computadora) haya alcanzado 3 puntos.\n",
    "while puntos_computadora < 3 and puntos_jugador < 3:\n",
    "    # Pedir al jugador su elección\n",
    "    jugador = input(\"Elije: Piedra, Papel, o Tijera: \").lower()\n",
    "\n",
    "    # Validar la elección\n",
    "    # Lo ponemos dentro del primer while, porque si lo dejamos fuera, el loop solo se ejecuta 1 vez\n",
    "\n",
    "    while jugador not in opciones:\n",
    "        print(\"Por favor elije una opción válida (piedra, papel o tijera).\")\n",
    "        jugador = input(\"Elije: Piedra, Papel, o Tijera: \").lower()\n",
    "\n",
    "    # Mostrar la elección del jugador\n",
    "    print(\"Has elegido:\", jugador)\n",
    "\n",
    "    # Elección aleatoria de la computadora\n",
    "    ordenador = random.choice(opciones)\n",
    "    print(\"El ordenador ha elegido:\", ordenador)\n",
    "\n",
    "    # Cómo se gana la ronda\n",
    "    # Utilizamos la \\ justo detrás del or para continuar el código en la siguiente línea, y que no quede el código largo\n",
    "    if jugador == ordenador:\n",
    "        print(\"¡Han empatado!\")\n",
    "    elif (jugador == \"piedra\" and ordenador == \"tijera\") or \\\n",
    "         (jugador == \"papel\" and ordenador == \"piedra\") or \\\n",
    "         (jugador == \"tijera\" and ordenador == \"papel\"):\n",
    "        print(\"¡Has ganado esta ronda!\")\n",
    "        puntos_jugador += 1\n",
    "    else:\n",
    "        print(\"Has perdido esta ronda. ¡Sigue intentándolo!\")\n",
    "        puntos_computadora += 1\n",
    "\n",
    "    # Mostrar marcador\n",
    "    print(f\"Puntos - Jugador: {puntos_jugador}, Computadora: {puntos_computadora}\")\n",
    "\n",
    "# Resultado final\n",
    "#Está fuera del while porque queremos que solo se ejecute 1 vez. Cuando el jugador o el ordenador consigan los 3 puntos. Es decir, cuando termina el bucle\n",
    "if puntos_computadora == 3:\n",
    "    print(\"El ordenador ha ganado la serie.\")\n",
    "elif puntos_jugador == 3:\n",
    "    print(\"¡Felicidades! Has ganado la serie.\")"
   ]
  }
 ],
 "metadata": {
  "kernelspec": {
   "display_name": "base",
   "language": "python",
   "name": "python3"
  },
  "language_info": {
   "codemirror_mode": {
    "name": "ipython",
    "version": 3
   },
   "file_extension": ".py",
   "mimetype": "text/x-python",
   "name": "python",
   "nbconvert_exporter": "python",
   "pygments_lexer": "ipython3",
   "version": "3.12.7"
  }
 },
 "nbformat": 4,
 "nbformat_minor": 2
}
